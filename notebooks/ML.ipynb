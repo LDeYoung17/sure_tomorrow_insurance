{
 "cells": [
  {
   "cell_type": "markdown",
   "metadata": {},
   "source": [
    "# Introduction"
   ]
  },
  {
   "cell_type": "markdown",
   "metadata": {},
   "source": [
    "Sure Tomorrow is an insurance company looking to make predictions based on data they already have. This analysis will find customers similar to given customers, as well as make predictions about the benefits that a new customer is likely to receive. t also demonstrates that it is possible to protect their customers personal data (PII) without breaking any machine learning models that they are using."
   ]
  },
  {
   "cell_type": "markdown",
   "metadata": {},
   "source": [
    "Import statements necessary to complete project"
   ]
  },
  {
   "cell_type": "code",
   "execution_count": 119,
   "metadata": {},
   "outputs": [],
   "source": [
    "import pandas as pd\n",
    "import numpy as np\n",
    "from IPython.display import display\n",
    "import math\n",
    "from scipy import linalg\n",
    "import matplotlib.pyplot as plt\n",
    "import seaborn as sns\n",
    "import sklearn.linear_model\n",
    "import sklearn.metrics\n",
    "import sklearn.neighbors\n",
    "import sklearn.preprocessing\n",
    "from sklearn.model_selection import train_test_split\n",
    "plt.style.use('ggplot')"
   ]
  },
  {
   "cell_type": "markdown",
   "metadata": {},
   "source": [
    "## Load Data"
   ]
  },
  {
   "cell_type": "markdown",
   "metadata": {},
   "source": [
    "This code loads the data and checks its properties and content, as well as updating the column names to be in the correct format."
   ]
  },
  {
   "cell_type": "code",
   "execution_count": 120,
   "metadata": {},
   "outputs": [],
   "source": [
    "insurance_data = pd.read_csv(\"/Users/leahdeyoung/Desktop/GitHub/sure_tomorrow_insurance/insurance_us.csv\", encoding = \"utf-8\")\n"
   ]
  },
  {
   "cell_type": "code",
   "execution_count": 121,
   "metadata": {},
   "outputs": [],
   "source": [
    "insurance_data = insurance_data.rename(columns={'Gender': 'gender', 'Age': 'age', 'Salary': 'income', 'Family members': 'family_members', 'Insurance benefits': 'insurance_benefits'})"
   ]
  },
  {
   "cell_type": "code",
   "execution_count": 122,
   "metadata": {},
   "outputs": [
    {
     "data": {
      "text/html": [
       "<div>\n",
       "<style scoped>\n",
       "    .dataframe tbody tr th:only-of-type {\n",
       "        vertical-align: middle;\n",
       "    }\n",
       "\n",
       "    .dataframe tbody tr th {\n",
       "        vertical-align: top;\n",
       "    }\n",
       "\n",
       "    .dataframe thead th {\n",
       "        text-align: right;\n",
       "    }\n",
       "</style>\n",
       "<table border=\"1\" class=\"dataframe\">\n",
       "  <thead>\n",
       "    <tr style=\"text-align: right;\">\n",
       "      <th></th>\n",
       "      <th>gender</th>\n",
       "      <th>age</th>\n",
       "      <th>income</th>\n",
       "      <th>family_members</th>\n",
       "      <th>insurance_benefits</th>\n",
       "    </tr>\n",
       "  </thead>\n",
       "  <tbody>\n",
       "    <tr>\n",
       "      <th>1235</th>\n",
       "      <td>0</td>\n",
       "      <td>47.0</td>\n",
       "      <td>42500.0</td>\n",
       "      <td>2</td>\n",
       "      <td>1</td>\n",
       "    </tr>\n",
       "    <tr>\n",
       "      <th>2210</th>\n",
       "      <td>0</td>\n",
       "      <td>38.0</td>\n",
       "      <td>39300.0</td>\n",
       "      <td>0</td>\n",
       "      <td>0</td>\n",
       "    </tr>\n",
       "    <tr>\n",
       "      <th>4628</th>\n",
       "      <td>1</td>\n",
       "      <td>41.0</td>\n",
       "      <td>32500.0</td>\n",
       "      <td>4</td>\n",
       "      <td>0</td>\n",
       "    </tr>\n",
       "    <tr>\n",
       "      <th>832</th>\n",
       "      <td>0</td>\n",
       "      <td>25.0</td>\n",
       "      <td>37800.0</td>\n",
       "      <td>3</td>\n",
       "      <td>0</td>\n",
       "    </tr>\n",
       "    <tr>\n",
       "      <th>1698</th>\n",
       "      <td>0</td>\n",
       "      <td>33.0</td>\n",
       "      <td>41200.0</td>\n",
       "      <td>1</td>\n",
       "      <td>0</td>\n",
       "    </tr>\n",
       "    <tr>\n",
       "      <th>4623</th>\n",
       "      <td>0</td>\n",
       "      <td>41.0</td>\n",
       "      <td>7400.0</td>\n",
       "      <td>0</td>\n",
       "      <td>0</td>\n",
       "    </tr>\n",
       "    <tr>\n",
       "      <th>3678</th>\n",
       "      <td>0</td>\n",
       "      <td>21.0</td>\n",
       "      <td>44300.0</td>\n",
       "      <td>2</td>\n",
       "      <td>0</td>\n",
       "    </tr>\n",
       "    <tr>\n",
       "      <th>4113</th>\n",
       "      <td>1</td>\n",
       "      <td>33.0</td>\n",
       "      <td>41800.0</td>\n",
       "      <td>0</td>\n",
       "      <td>0</td>\n",
       "    </tr>\n",
       "    <tr>\n",
       "      <th>4669</th>\n",
       "      <td>0</td>\n",
       "      <td>46.0</td>\n",
       "      <td>26900.0</td>\n",
       "      <td>1</td>\n",
       "      <td>1</td>\n",
       "    </tr>\n",
       "    <tr>\n",
       "      <th>2088</th>\n",
       "      <td>1</td>\n",
       "      <td>21.0</td>\n",
       "      <td>47900.0</td>\n",
       "      <td>2</td>\n",
       "      <td>0</td>\n",
       "    </tr>\n",
       "  </tbody>\n",
       "</table>\n",
       "</div>"
      ],
      "text/plain": [
       "      gender   age   income  family_members  insurance_benefits\n",
       "1235       0  47.0  42500.0               2                   1\n",
       "2210       0  38.0  39300.0               0                   0\n",
       "4628       1  41.0  32500.0               4                   0\n",
       "832        0  25.0  37800.0               3                   0\n",
       "1698       0  33.0  41200.0               1                   0\n",
       "4623       0  41.0   7400.0               0                   0\n",
       "3678       0  21.0  44300.0               2                   0\n",
       "4113       1  33.0  41800.0               0                   0\n",
       "4669       0  46.0  26900.0               1                   1\n",
       "2088       1  21.0  47900.0               2                   0"
      ]
     },
     "metadata": {},
     "output_type": "display_data"
    },
    {
     "name": "stdout",
     "output_type": "stream",
     "text": [
      "<class 'pandas.core.frame.DataFrame'>\n",
      "RangeIndex: 5000 entries, 0 to 4999\n",
      "Data columns (total 5 columns):\n",
      " #   Column              Non-Null Count  Dtype  \n",
      "---  ------              --------------  -----  \n",
      " 0   gender              5000 non-null   int64  \n",
      " 1   age                 5000 non-null   float64\n",
      " 2   income              5000 non-null   float64\n",
      " 3   family_members      5000 non-null   int64  \n",
      " 4   insurance_benefits  5000 non-null   int64  \n",
      "dtypes: float64(2), int64(3)\n",
      "memory usage: 195.4 KB\n"
     ]
    }
   ],
   "source": [
    "display(insurance_data.sample(10))\n",
    "insurance_data.info()"
   ]
  },
  {
   "cell_type": "markdown",
   "metadata": {},
   "source": [
    "## Data Preprocessing"
   ]
  },
  {
   "cell_type": "markdown",
   "metadata": {},
   "source": [
    "This code converts the age column to integer."
   ]
  },
  {
   "cell_type": "code",
   "execution_count": 123,
   "metadata": {},
   "outputs": [],
   "source": [
    "insurance_data['age'] = insurance_data['age'].astype('int')\n"
   ]
  },
  {
   "cell_type": "code",
   "execution_count": 124,
   "metadata": {},
   "outputs": [
    {
     "name": "stdout",
     "output_type": "stream",
     "text": [
      "<class 'pandas.core.frame.DataFrame'>\n",
      "RangeIndex: 5000 entries, 0 to 4999\n",
      "Data columns (total 5 columns):\n",
      " #   Column              Non-Null Count  Dtype  \n",
      "---  ------              --------------  -----  \n",
      " 0   gender              5000 non-null   int64  \n",
      " 1   age                 5000 non-null   int64  \n",
      " 2   income              5000 non-null   float64\n",
      " 3   family_members      5000 non-null   int64  \n",
      " 4   insurance_benefits  5000 non-null   int64  \n",
      "dtypes: float64(1), int64(4)\n",
      "memory usage: 195.4 KB\n"
     ]
    }
   ],
   "source": [
    "insurance_data.info()"
   ]
  },
  {
   "cell_type": "markdown",
   "metadata": {},
   "source": [
    "This code checks the value counts of the different columns to make sure there are no strange values. Everything looks like it should, assuming that 0 family members means only the insured person is part of the family."
   ]
  },
  {
   "cell_type": "code",
   "execution_count": 125,
   "metadata": {},
   "outputs": [
    {
     "name": "stdout",
     "output_type": "stream",
     "text": [
      "0    2505\n",
      "1    2495\n",
      "Name: gender, dtype: int64\n",
      "19    223\n",
      "25    214\n",
      "31    212\n",
      "26    211\n",
      "22    209\n",
      "27    209\n",
      "32    206\n",
      "28    204\n",
      "29    203\n",
      "30    202\n",
      "23    202\n",
      "21    200\n",
      "20    195\n",
      "36    193\n",
      "33    191\n",
      "24    182\n",
      "35    179\n",
      "34    177\n",
      "37    147\n",
      "39    141\n",
      "38    139\n",
      "41    129\n",
      "18    117\n",
      "40    114\n",
      "42     93\n",
      "43     77\n",
      "44     74\n",
      "45     73\n",
      "46     60\n",
      "47     47\n",
      "49     37\n",
      "50     27\n",
      "48     26\n",
      "52     22\n",
      "51     21\n",
      "53     11\n",
      "55      9\n",
      "54      7\n",
      "56      5\n",
      "59      3\n",
      "57      2\n",
      "58      2\n",
      "60      2\n",
      "61      1\n",
      "65      1\n",
      "62      1\n",
      "Name: age, dtype: int64\n",
      "45800.0    29\n",
      "37100.0    28\n",
      "41500.0    27\n",
      "43200.0    27\n",
      "46800.0    26\n",
      "           ..\n",
      "17700.0     1\n",
      "70600.0     1\n",
      "18100.0     1\n",
      "13000.0     1\n",
      "56800.0     1\n",
      "Name: income, Length: 524, dtype: int64\n",
      "1    1814\n",
      "0    1513\n",
      "2    1071\n",
      "3     439\n",
      "4     124\n",
      "5      32\n",
      "6       7\n",
      "Name: family_members, dtype: int64\n",
      "0    4436\n",
      "1     423\n",
      "2     115\n",
      "3      18\n",
      "4       7\n",
      "5       1\n",
      "Name: insurance_benefits, dtype: int64\n"
     ]
    }
   ],
   "source": [
    "print(insurance_data['gender'].value_counts())\n",
    "print(insurance_data['age'].value_counts())\n",
    "print(insurance_data['income'].value_counts())\n",
    "print(insurance_data['family_members'].value_counts())\n",
    "print(insurance_data['insurance_benefits'].value_counts())"
   ]
  },
  {
   "cell_type": "markdown",
   "metadata": {},
   "source": [
    "## EDA"
   ]
  },
  {
   "cell_type": "markdown",
   "metadata": {},
   "source": [
    "This code checks for trends in customer groups by using a pairplot. It does not seem taht there are any obvious trends, as there are too many variables to evaluate efficiently."
   ]
  },
  {
   "cell_type": "code",
   "execution_count": 126,
   "metadata": {},
   "outputs": [],
   "source": [
    "customer_groups = sns.pairplot(insurance_data, kind='hist')\n",
    "customer_groups.fig.set_size_inches(12, 12)\n"
   ]
  },
  {
   "cell_type": "markdown",
   "metadata": {},
   "source": [
    "# Task 1. Similar Customers"
   ]
  },
  {
   "cell_type": "markdown",
   "metadata": {},
   "source": [
    "This code scales the data, then returns the nearest neighbors, aka the most similar customers, (k) for both the manhattan and euclidean distances."
   ]
  },
  {
   "cell_type": "code",
   "execution_count": 127,
   "metadata": {},
   "outputs": [],
   "source": [
    "feature_names = ['gender', 'age', 'income', 'family_members']"
   ]
  },
  {
   "cell_type": "code",
   "execution_count": 128,
   "metadata": {},
   "outputs": [],
   "source": [
    "def get_knn(df, n, k, metric_name):\n",
    "    \n",
    "    \"\"\"\n",
    "    Returns k nearest neighbors\n",
    "\n",
    "    :param df: pandas DataFrame used to find similar objects within\n",
    "    :param n: object no for which the nearest neighbours are looked for\n",
    "    :param k: the number of the nearest neighbours to return\n",
    "    :param metric: name of distance metric\n",
    "    \"\"\"\n",
    "\n",
    "    nbrs = sklearn.neighbors.NearestNeighbors(n_neighbors=k, metric=metric_name)\n",
    "    nbrs.fit(df[feature_names])\n",
    "    nbrs_distances, nbrs_indices = nbrs.kneighbors([df.iloc[n][feature_names]], k, return_distance=True)\n",
    "    \n",
    "    df_res = pd.concat([\n",
    "        df.iloc[nbrs_indices[0]], \n",
    "        pd.DataFrame(nbrs_distances.T, index=nbrs_indices[0], columns=['distance'])\n",
    "        ], axis=1)\n",
    "    \n",
    "    return df_res"
   ]
  },
  {
   "cell_type": "markdown",
   "metadata": {},
   "source": [
    "Scaling the data."
   ]
  },
  {
   "cell_type": "code",
   "execution_count": 129,
   "metadata": {},
   "outputs": [],
   "source": [
    "feature_names = ['gender', 'age', 'income', 'family_members']\n",
    "\n",
    "transformer_mas = sklearn.preprocessing.MaxAbsScaler().fit(insurance_data[feature_names].to_numpy())\n",
    "\n",
    "insurance_data_scaled = insurance_data.copy()\n",
    "insurance_data_scaled.loc[:, feature_names] = transformer_mas.transform(insurance_data[feature_names].to_numpy())"
   ]
  },
  {
   "cell_type": "code",
   "execution_count": 130,
   "metadata": {},
   "outputs": [
    {
     "data": {
      "text/html": [
       "<div>\n",
       "<style scoped>\n",
       "    .dataframe tbody tr th:only-of-type {\n",
       "        vertical-align: middle;\n",
       "    }\n",
       "\n",
       "    .dataframe tbody tr th {\n",
       "        vertical-align: top;\n",
       "    }\n",
       "\n",
       "    .dataframe thead th {\n",
       "        text-align: right;\n",
       "    }\n",
       "</style>\n",
       "<table border=\"1\" class=\"dataframe\">\n",
       "  <thead>\n",
       "    <tr style=\"text-align: right;\">\n",
       "      <th></th>\n",
       "      <th>gender</th>\n",
       "      <th>age</th>\n",
       "      <th>income</th>\n",
       "      <th>family_members</th>\n",
       "      <th>insurance_benefits</th>\n",
       "    </tr>\n",
       "  </thead>\n",
       "  <tbody>\n",
       "    <tr>\n",
       "      <th>931</th>\n",
       "      <td>0.0</td>\n",
       "      <td>0.615385</td>\n",
       "      <td>0.653165</td>\n",
       "      <td>0.000000</td>\n",
       "      <td>0</td>\n",
       "    </tr>\n",
       "    <tr>\n",
       "      <th>1694</th>\n",
       "      <td>1.0</td>\n",
       "      <td>0.507692</td>\n",
       "      <td>0.688608</td>\n",
       "      <td>0.000000</td>\n",
       "      <td>0</td>\n",
       "    </tr>\n",
       "    <tr>\n",
       "      <th>2293</th>\n",
       "      <td>0.0</td>\n",
       "      <td>0.461538</td>\n",
       "      <td>0.536709</td>\n",
       "      <td>0.000000</td>\n",
       "      <td>0</td>\n",
       "    </tr>\n",
       "    <tr>\n",
       "      <th>2304</th>\n",
       "      <td>0.0</td>\n",
       "      <td>0.600000</td>\n",
       "      <td>0.651899</td>\n",
       "      <td>0.166667</td>\n",
       "      <td>0</td>\n",
       "    </tr>\n",
       "    <tr>\n",
       "      <th>1232</th>\n",
       "      <td>1.0</td>\n",
       "      <td>0.292308</td>\n",
       "      <td>0.436709</td>\n",
       "      <td>0.333333</td>\n",
       "      <td>0</td>\n",
       "    </tr>\n",
       "  </tbody>\n",
       "</table>\n",
       "</div>"
      ],
      "text/plain": [
       "      gender       age    income  family_members  insurance_benefits\n",
       "931      0.0  0.615385  0.653165        0.000000                   0\n",
       "1694     1.0  0.507692  0.688608        0.000000                   0\n",
       "2293     0.0  0.461538  0.536709        0.000000                   0\n",
       "2304     0.0  0.600000  0.651899        0.166667                   0\n",
       "1232     1.0  0.292308  0.436709        0.333333                   0"
      ]
     },
     "execution_count": 130,
     "metadata": {},
     "output_type": "execute_result"
    }
   ],
   "source": [
    "insurance_data_scaled.sample(5)"
   ]
  },
  {
   "cell_type": "markdown",
   "metadata": {},
   "source": [
    "Now, let's get similar records for a given one for every combination"
   ]
  },
  {
   "cell_type": "code",
   "execution_count": 131,
   "metadata": {},
   "outputs": [
    {
     "name": "stderr",
     "output_type": "stream",
     "text": [
      "/Users/leahdeyoung/opt/anaconda3/lib/python3.9/site-packages/sklearn/base.py:464: UserWarning: X does not have valid feature names, but NearestNeighbors was fitted with feature names\n",
      "  warnings.warn(\n"
     ]
    },
    {
     "data": {
      "text/html": [
       "<div>\n",
       "<style scoped>\n",
       "    .dataframe tbody tr th:only-of-type {\n",
       "        vertical-align: middle;\n",
       "    }\n",
       "\n",
       "    .dataframe tbody tr th {\n",
       "        vertical-align: top;\n",
       "    }\n",
       "\n",
       "    .dataframe thead th {\n",
       "        text-align: right;\n",
       "    }\n",
       "</style>\n",
       "<table border=\"1\" class=\"dataframe\">\n",
       "  <thead>\n",
       "    <tr style=\"text-align: right;\">\n",
       "      <th></th>\n",
       "      <th>gender</th>\n",
       "      <th>age</th>\n",
       "      <th>income</th>\n",
       "      <th>family_members</th>\n",
       "      <th>insurance_benefits</th>\n",
       "      <th>distance</th>\n",
       "    </tr>\n",
       "  </thead>\n",
       "  <tbody>\n",
       "    <tr>\n",
       "      <th>10</th>\n",
       "      <td>1</td>\n",
       "      <td>25</td>\n",
       "      <td>36600.0</td>\n",
       "      <td>1</td>\n",
       "      <td>0</td>\n",
       "      <td>0.000000</td>\n",
       "    </tr>\n",
       "    <tr>\n",
       "      <th>4039</th>\n",
       "      <td>1</td>\n",
       "      <td>25</td>\n",
       "      <td>36600.0</td>\n",
       "      <td>2</td>\n",
       "      <td>0</td>\n",
       "      <td>1.000000</td>\n",
       "    </tr>\n",
       "    <tr>\n",
       "      <th>3247</th>\n",
       "      <td>1</td>\n",
       "      <td>26</td>\n",
       "      <td>36600.0</td>\n",
       "      <td>2</td>\n",
       "      <td>0</td>\n",
       "      <td>1.414214</td>\n",
       "    </tr>\n",
       "    <tr>\n",
       "      <th>2037</th>\n",
       "      <td>1</td>\n",
       "      <td>26</td>\n",
       "      <td>36600.0</td>\n",
       "      <td>0</td>\n",
       "      <td>0</td>\n",
       "      <td>1.414214</td>\n",
       "    </tr>\n",
       "    <tr>\n",
       "      <th>1508</th>\n",
       "      <td>0</td>\n",
       "      <td>26</td>\n",
       "      <td>36600.0</td>\n",
       "      <td>0</td>\n",
       "      <td>0</td>\n",
       "      <td>1.732051</td>\n",
       "    </tr>\n",
       "  </tbody>\n",
       "</table>\n",
       "</div>"
      ],
      "text/plain": [
       "      gender  age   income  family_members  insurance_benefits  distance\n",
       "10         1   25  36600.0               1                   0  0.000000\n",
       "4039       1   25  36600.0               2                   0  1.000000\n",
       "3247       1   26  36600.0               2                   0  1.414214\n",
       "2037       1   26  36600.0               0                   0  1.414214\n",
       "1508       0   26  36600.0               0                   0  1.732051"
      ]
     },
     "execution_count": 131,
     "metadata": {},
     "output_type": "execute_result"
    }
   ],
   "source": [
    "get_knn(insurance_data, 10, 5, 'euclidean')"
   ]
  },
  {
   "cell_type": "code",
   "execution_count": 132,
   "metadata": {},
   "outputs": [
    {
     "name": "stderr",
     "output_type": "stream",
     "text": [
      "/Users/leahdeyoung/opt/anaconda3/lib/python3.9/site-packages/sklearn/base.py:464: UserWarning: X does not have valid feature names, but NearestNeighbors was fitted with feature names\n",
      "  warnings.warn(\n"
     ]
    },
    {
     "data": {
      "text/html": [
       "<div>\n",
       "<style scoped>\n",
       "    .dataframe tbody tr th:only-of-type {\n",
       "        vertical-align: middle;\n",
       "    }\n",
       "\n",
       "    .dataframe tbody tr th {\n",
       "        vertical-align: top;\n",
       "    }\n",
       "\n",
       "    .dataframe thead th {\n",
       "        text-align: right;\n",
       "    }\n",
       "</style>\n",
       "<table border=\"1\" class=\"dataframe\">\n",
       "  <thead>\n",
       "    <tr style=\"text-align: right;\">\n",
       "      <th></th>\n",
       "      <th>gender</th>\n",
       "      <th>age</th>\n",
       "      <th>income</th>\n",
       "      <th>family_members</th>\n",
       "      <th>insurance_benefits</th>\n",
       "      <th>distance</th>\n",
       "    </tr>\n",
       "  </thead>\n",
       "  <tbody>\n",
       "    <tr>\n",
       "      <th>10</th>\n",
       "      <td>1</td>\n",
       "      <td>25</td>\n",
       "      <td>36600.0</td>\n",
       "      <td>1</td>\n",
       "      <td>0</td>\n",
       "      <td>0.0</td>\n",
       "    </tr>\n",
       "    <tr>\n",
       "      <th>4039</th>\n",
       "      <td>1</td>\n",
       "      <td>25</td>\n",
       "      <td>36600.0</td>\n",
       "      <td>2</td>\n",
       "      <td>0</td>\n",
       "      <td>1.0</td>\n",
       "    </tr>\n",
       "    <tr>\n",
       "      <th>3247</th>\n",
       "      <td>1</td>\n",
       "      <td>26</td>\n",
       "      <td>36600.0</td>\n",
       "      <td>2</td>\n",
       "      <td>0</td>\n",
       "      <td>2.0</td>\n",
       "    </tr>\n",
       "    <tr>\n",
       "      <th>2037</th>\n",
       "      <td>1</td>\n",
       "      <td>26</td>\n",
       "      <td>36600.0</td>\n",
       "      <td>0</td>\n",
       "      <td>0</td>\n",
       "      <td>2.0</td>\n",
       "    </tr>\n",
       "    <tr>\n",
       "      <th>1508</th>\n",
       "      <td>0</td>\n",
       "      <td>26</td>\n",
       "      <td>36600.0</td>\n",
       "      <td>0</td>\n",
       "      <td>0</td>\n",
       "      <td>3.0</td>\n",
       "    </tr>\n",
       "  </tbody>\n",
       "</table>\n",
       "</div>"
      ],
      "text/plain": [
       "      gender  age   income  family_members  insurance_benefits  distance\n",
       "10         1   25  36600.0               1                   0       0.0\n",
       "4039       1   25  36600.0               2                   0       1.0\n",
       "3247       1   26  36600.0               2                   0       2.0\n",
       "2037       1   26  36600.0               0                   0       2.0\n",
       "1508       0   26  36600.0               0                   0       3.0"
      ]
     },
     "execution_count": 132,
     "metadata": {},
     "output_type": "execute_result"
    }
   ],
   "source": [
    "get_knn(insurance_data, 10, 5, 'cityblock')"
   ]
  },
  {
   "cell_type": "code",
   "execution_count": 133,
   "metadata": {},
   "outputs": [
    {
     "name": "stderr",
     "output_type": "stream",
     "text": [
      "/Users/leahdeyoung/opt/anaconda3/lib/python3.9/site-packages/sklearn/base.py:464: UserWarning: X does not have valid feature names, but NearestNeighbors was fitted with feature names\n",
      "  warnings.warn(\n"
     ]
    },
    {
     "data": {
      "text/html": [
       "<div>\n",
       "<style scoped>\n",
       "    .dataframe tbody tr th:only-of-type {\n",
       "        vertical-align: middle;\n",
       "    }\n",
       "\n",
       "    .dataframe tbody tr th {\n",
       "        vertical-align: top;\n",
       "    }\n",
       "\n",
       "    .dataframe thead th {\n",
       "        text-align: right;\n",
       "    }\n",
       "</style>\n",
       "<table border=\"1\" class=\"dataframe\">\n",
       "  <thead>\n",
       "    <tr style=\"text-align: right;\">\n",
       "      <th></th>\n",
       "      <th>gender</th>\n",
       "      <th>age</th>\n",
       "      <th>income</th>\n",
       "      <th>family_members</th>\n",
       "      <th>insurance_benefits</th>\n",
       "      <th>distance</th>\n",
       "    </tr>\n",
       "  </thead>\n",
       "  <tbody>\n",
       "    <tr>\n",
       "      <th>10</th>\n",
       "      <td>1.0</td>\n",
       "      <td>0.384615</td>\n",
       "      <td>0.463291</td>\n",
       "      <td>0.166667</td>\n",
       "      <td>0</td>\n",
       "      <td>0.000000</td>\n",
       "    </tr>\n",
       "    <tr>\n",
       "      <th>4377</th>\n",
       "      <td>1.0</td>\n",
       "      <td>0.384615</td>\n",
       "      <td>0.473418</td>\n",
       "      <td>0.166667</td>\n",
       "      <td>0</td>\n",
       "      <td>0.010127</td>\n",
       "    </tr>\n",
       "    <tr>\n",
       "      <th>1389</th>\n",
       "      <td>1.0</td>\n",
       "      <td>0.369231</td>\n",
       "      <td>0.464557</td>\n",
       "      <td>0.166667</td>\n",
       "      <td>0</td>\n",
       "      <td>0.015437</td>\n",
       "    </tr>\n",
       "    <tr>\n",
       "      <th>760</th>\n",
       "      <td>1.0</td>\n",
       "      <td>0.369231</td>\n",
       "      <td>0.462025</td>\n",
       "      <td>0.166667</td>\n",
       "      <td>0</td>\n",
       "      <td>0.015437</td>\n",
       "    </tr>\n",
       "    <tr>\n",
       "      <th>2254</th>\n",
       "      <td>1.0</td>\n",
       "      <td>0.400000</td>\n",
       "      <td>0.455696</td>\n",
       "      <td>0.166667</td>\n",
       "      <td>0</td>\n",
       "      <td>0.017157</td>\n",
       "    </tr>\n",
       "  </tbody>\n",
       "</table>\n",
       "</div>"
      ],
      "text/plain": [
       "      gender       age    income  family_members  insurance_benefits  distance\n",
       "10       1.0  0.384615  0.463291        0.166667                   0  0.000000\n",
       "4377     1.0  0.384615  0.473418        0.166667                   0  0.010127\n",
       "1389     1.0  0.369231  0.464557        0.166667                   0  0.015437\n",
       "760      1.0  0.369231  0.462025        0.166667                   0  0.015437\n",
       "2254     1.0  0.400000  0.455696        0.166667                   0  0.017157"
      ]
     },
     "execution_count": 133,
     "metadata": {},
     "output_type": "execute_result"
    }
   ],
   "source": [
    "get_knn(insurance_data_scaled, 10, 5, 'euclidean')"
   ]
  },
  {
   "cell_type": "code",
   "execution_count": 134,
   "metadata": {},
   "outputs": [
    {
     "name": "stderr",
     "output_type": "stream",
     "text": [
      "/Users/leahdeyoung/opt/anaconda3/lib/python3.9/site-packages/sklearn/base.py:464: UserWarning: X does not have valid feature names, but NearestNeighbors was fitted with feature names\n",
      "  warnings.warn(\n"
     ]
    },
    {
     "data": {
      "text/html": [
       "<div>\n",
       "<style scoped>\n",
       "    .dataframe tbody tr th:only-of-type {\n",
       "        vertical-align: middle;\n",
       "    }\n",
       "\n",
       "    .dataframe tbody tr th {\n",
       "        vertical-align: top;\n",
       "    }\n",
       "\n",
       "    .dataframe thead th {\n",
       "        text-align: right;\n",
       "    }\n",
       "</style>\n",
       "<table border=\"1\" class=\"dataframe\">\n",
       "  <thead>\n",
       "    <tr style=\"text-align: right;\">\n",
       "      <th></th>\n",
       "      <th>gender</th>\n",
       "      <th>age</th>\n",
       "      <th>income</th>\n",
       "      <th>family_members</th>\n",
       "      <th>insurance_benefits</th>\n",
       "      <th>distance</th>\n",
       "    </tr>\n",
       "  </thead>\n",
       "  <tbody>\n",
       "    <tr>\n",
       "      <th>10</th>\n",
       "      <td>1.0</td>\n",
       "      <td>0.384615</td>\n",
       "      <td>0.463291</td>\n",
       "      <td>0.166667</td>\n",
       "      <td>0</td>\n",
       "      <td>0.000000</td>\n",
       "    </tr>\n",
       "    <tr>\n",
       "      <th>4377</th>\n",
       "      <td>1.0</td>\n",
       "      <td>0.384615</td>\n",
       "      <td>0.473418</td>\n",
       "      <td>0.166667</td>\n",
       "      <td>0</td>\n",
       "      <td>0.010127</td>\n",
       "    </tr>\n",
       "    <tr>\n",
       "      <th>1389</th>\n",
       "      <td>1.0</td>\n",
       "      <td>0.369231</td>\n",
       "      <td>0.464557</td>\n",
       "      <td>0.166667</td>\n",
       "      <td>0</td>\n",
       "      <td>0.016650</td>\n",
       "    </tr>\n",
       "    <tr>\n",
       "      <th>760</th>\n",
       "      <td>1.0</td>\n",
       "      <td>0.369231</td>\n",
       "      <td>0.462025</td>\n",
       "      <td>0.166667</td>\n",
       "      <td>0</td>\n",
       "      <td>0.016650</td>\n",
       "    </tr>\n",
       "    <tr>\n",
       "      <th>2254</th>\n",
       "      <td>1.0</td>\n",
       "      <td>0.400000</td>\n",
       "      <td>0.455696</td>\n",
       "      <td>0.166667</td>\n",
       "      <td>0</td>\n",
       "      <td>0.022980</td>\n",
       "    </tr>\n",
       "  </tbody>\n",
       "</table>\n",
       "</div>"
      ],
      "text/plain": [
       "      gender       age    income  family_members  insurance_benefits  distance\n",
       "10       1.0  0.384615  0.463291        0.166667                   0  0.000000\n",
       "4377     1.0  0.384615  0.473418        0.166667                   0  0.010127\n",
       "1389     1.0  0.369231  0.464557        0.166667                   0  0.016650\n",
       "760      1.0  0.369231  0.462025        0.166667                   0  0.016650\n",
       "2254     1.0  0.400000  0.455696        0.166667                   0  0.022980"
      ]
     },
     "execution_count": 134,
     "metadata": {},
     "output_type": "execute_result"
    }
   ],
   "source": [
    "get_knn(insurance_data_scaled, 10, 5, 'cityblock')"
   ]
  },
  {
   "cell_type": "markdown",
   "metadata": {},
   "source": [
    "The data not being scaled causes the distances to appear larger than it does when the data is scaled, because the financial information has significatly larger values than the other numerical values. The results using the the Manhattan distance metric are not particularly similar to each other in scaling vs. not scaling; however, they are somewhat similar to the respective Euclidean distances (more similar in the scaled dataset), and they are relatively close to the other Manhattan distances in their own datasets. "
   ]
  },
  {
   "cell_type": "markdown",
   "metadata": {},
   "source": [
    "# Task 2. Is Customer Likely to Receive Insurance Benefit?"
   ]
  },
  {
   "cell_type": "markdown",
   "metadata": {},
   "source": [
    "This code builds a kNN classification model and compares it to a dummy model to see if it produces better results in regards to an F1 score."
   ]
  },
  {
   "cell_type": "markdown",
   "metadata": {},
   "source": [
    "This code creates the target column by assigning \"1\" to any value in insurance_benefits that is greater than 0 and \"0\" to any value that is equal to 0."
   ]
  },
  {
   "cell_type": "code",
   "execution_count": 135,
   "metadata": {},
   "outputs": [
    {
     "name": "stdout",
     "output_type": "stream",
     "text": [
      "0    4436\n",
      "1     423\n",
      "2     115\n",
      "3      18\n",
      "4       7\n",
      "5       1\n",
      "Name: insurance_benefits, dtype: int64\n",
      "3970    0\n",
      "1145    0\n",
      "2931    0\n",
      "3111    0\n",
      "2980    0\n",
      "4455    0\n",
      "1250    0\n",
      "483     0\n",
      "1286    0\n",
      "2678    0\n",
      "Name: insurance_benefits_received, dtype: int64\n",
      "0    4436\n",
      "1     564\n",
      "Name: insurance_benefits_received, dtype: int64\n"
     ]
    }
   ],
   "source": [
    "print(insurance_data['insurance_benefits'].value_counts())\n",
    "insurance_data['insurance_benefits_received'] = insurance_data['insurance_benefits'].where((insurance_data['insurance_benefits'] == 0), 1)\n",
    "insurance_data['insurance_benefits_received'].fillna(0) \n",
    "print(insurance_data['insurance_benefits_received'].sample(10))\n",
    "print(insurance_data['insurance_benefits_received'].value_counts())\n",
    "\n"
   ]
  },
  {
   "cell_type": "markdown",
   "metadata": {},
   "source": [
    "This code splits the data into training (70%) and test (30%) and assigns the targets and features. "
   ]
  },
  {
   "cell_type": "code",
   "execution_count": 136,
   "metadata": {},
   "outputs": [],
   "source": [
    "insurance_data_train, insurance_data_test = train_test_split(insurance_data, test_size=0.30, train_size = 0.70, random_state=54321, shuffle=True)\n",
    "\n",
    "unscaled_features_train = insurance_data_train.drop(['insurance_benefits_received', 'insurance_benefits'], axis=1)\n",
    "unscaled_scaled_target_train = insurance_data_train['insurance_benefits_received']\n",
    "unscaled_features_test = insurance_data_test.drop(['insurance_benefits_received', 'insurance_benefits'], axis=1)\n",
    "unscaled_scaled_target_test = insurance_data_test['insurance_benefits_received']\n",
    "\n",
    "scale_features_transformer = sklearn.preprocessing.MaxAbsScaler().fit(unscaled_features_train[feature_names].to_numpy())\n",
    "\n",
    "scaled_features_train = unscaled_features_train.copy()\n",
    "scaled_features_train.loc[:, feature_names] = scale_features_transformer.transform(unscaled_features_train[feature_names].to_numpy())\n",
    "\n",
    "scaled_features_test = unscaled_features_test.copy()\n",
    "scaled_features_test.loc[:, feature_names] = scale_features_transformer.transform(unscaled_features_test[feature_names].to_numpy())\n",
    "\n"
   ]
  },
  {
   "cell_type": "markdown",
   "metadata": {},
   "source": [
    "This code looks for class imbalance in the target sets using the value_counts() method. There does seem to be a slight imbalance,  between the two sets in terms of numbers only, but it does not change between the scaled and unscaled sets."
   ]
  },
  {
   "cell_type": "code",
   "execution_count": 137,
   "metadata": {},
   "outputs": [
    {
     "name": "stdout",
     "output_type": "stream",
     "text": [
      "0    3098\n",
      "1     402\n",
      "Name: insurance_benefits_received, dtype: int64\n",
      "0    1338\n",
      "1     162\n",
      "Name: insurance_benefits_received, dtype: int64\n"
     ]
    }
   ],
   "source": [
    "#print(unscaled_features_train.value_counts())\n",
    "print(unscaled_scaled_target_train.value_counts())\n",
    "#print(unscaled_features_test.value_counts())\n",
    "print(unscaled_scaled_target_test.value_counts())"
   ]
  },
  {
   "cell_type": "markdown",
   "metadata": {},
   "source": [
    "This code creates the kNN classifier and evaluates the F1 score for kNN predictions"
   ]
  },
  {
   "cell_type": "code",
   "execution_count": 138,
   "metadata": {},
   "outputs": [],
   "source": [
    "def eval_classifier(features_train, target_train, features_test, target_test, k):\n",
    "    \n",
    "    kNN = sklearn.neighbors.KNeighborsClassifier(n_neighbors=(k), weights='uniform', algorithm='auto', leaf_size=30, metric_params=None, n_jobs=None)\n",
    "    kNN.fit(features_train, target_train)\n",
    "\n",
    "    predictions = kNN.predict(features_test)\n",
    "    f1_score_predict = sklearn.metrics.f1_score(target_test, predictions)\n",
    "    print(f'K: {k}')\n",
    "    print(f'F1 for KNN Predictions: {f1_score_predict:.2f}')\n",
    "    cm_predict = sklearn.metrics.confusion_matrix(target_test, predictions, normalize='all')\n",
    "    print('Confusion Matrix for KNN Predictions')\n",
    "    print(cm_predict)\n",
    "\n",
    "    return "
   ]
  },
  {
   "cell_type": "markdown",
   "metadata": {},
   "source": [
    "This code creates a random dummy model and evaluates the F1 and confusion matrix"
   ]
  },
  {
   "cell_type": "code",
   "execution_count": 139,
   "metadata": {},
   "outputs": [],
   "source": [
    "def rnd_model_predict(y_true, P, size, seed=42):\n",
    "\n",
    "    rng = np.random.default_rng(seed=seed)\n",
    "    rnd_pred = rng.binomial(n=1, p=P, size=size)\n",
    "    f1_score = sklearn.metrics.f1_score(y_true, rnd_pred)\n",
    "    print(f'F1: {f1_score:.2f}')\n",
    "\n",
    "    # if you have an issue with the following line, restart the kernel and run the notebook again\n",
    "    cm = sklearn.metrics.confusion_matrix(y_true, rnd_pred, normalize='all')\n",
    "    print('Confusion Matrix')\n",
    "    print(cm)\n",
    "    return rnd_pred\n",
    "\n"
   ]
  },
  {
   "cell_type": "code",
   "execution_count": 140,
   "metadata": {},
   "outputs": [
    {
     "data": {
      "text/plain": [
       "array([1, 0, 1, ..., 0, 0, 1])"
      ]
     },
     "execution_count": 140,
     "metadata": {},
     "output_type": "execute_result"
    }
   ],
   "source": [
    "rng = np.random.default_rng(seed=42)\n",
    "rng.binomial(n=1, p=0.5, size=len(insurance_data))"
   ]
  },
  {
   "cell_type": "code",
   "execution_count": 141,
   "metadata": {},
   "outputs": [
    {
     "name": "stdout",
     "output_type": "stream",
     "text": [
      "The probability: 0.00\n",
      "F1: 0.00\n",
      "Confusion Matrix\n",
      "[[0.8872 0.    ]\n",
      " [0.1128 0.    ]]\n",
      "The probability: 0.11\n",
      "F1: 0.12\n",
      "Confusion Matrix\n",
      "[[0.7914 0.0958]\n",
      " [0.0994 0.0134]]\n",
      "The probability: 0.50\n",
      "F1: 0.20\n",
      "Confusion Matrix\n",
      "[[0.456  0.4312]\n",
      " [0.053  0.0598]]\n",
      "The probability: 1.00\n",
      "F1: 0.20\n",
      "Confusion Matrix\n",
      "[[0.     0.8872]\n",
      " [0.     0.1128]]\n"
     ]
    }
   ],
   "source": [
    "for P in [0, insurance_data['insurance_benefits_received'].sum() / len(insurance_data), 0.5, 1]:\n",
    "\n",
    "    print(f'The probability: {P:.2f}')\n",
    "    y_pred_rnd = rnd_model_predict(insurance_data['insurance_benefits_received'], P, len(insurance_data), seed=42)\n"
   ]
  },
  {
   "cell_type": "markdown",
   "metadata": {},
   "source": [
    "Unscaled:"
   ]
  },
  {
   "cell_type": "code",
   "execution_count": 142,
   "metadata": {},
   "outputs": [
    {
     "name": "stdout",
     "output_type": "stream",
     "text": [
      "K: 1\n",
      "F1 for KNN Predictions: 0.59\n",
      "Confusion Matrix for KNN Predictions\n",
      "[[0.86933333 0.02266667]\n",
      " [0.05266667 0.05533333]]\n",
      "K: 2\n",
      "F1 for KNN Predictions: 0.41\n",
      "Confusion Matrix for KNN Predictions\n",
      "[[0.88733333 0.00466667]\n",
      " [0.07933333 0.02866667]]\n",
      "K: 3\n",
      "F1 for KNN Predictions: 0.43\n",
      "Confusion Matrix for KNN Predictions\n",
      "[[0.87933333 0.01266667]\n",
      " [0.07533333 0.03266667]]\n",
      "K: 4\n",
      "F1 for KNN Predictions: 0.17\n",
      "Confusion Matrix for KNN Predictions\n",
      "[[0.89  0.002]\n",
      " [0.098 0.01 ]]\n",
      "K: 5\n",
      "F1 for KNN Predictions: 0.18\n",
      "Confusion Matrix for KNN Predictions\n",
      "[[0.88866667 0.00333333]\n",
      " [0.09666667 0.01133333]]\n",
      "K: 6\n",
      "F1 for KNN Predictions: 0.05\n",
      "Confusion Matrix for KNN Predictions\n",
      "[[0.892      0.        ]\n",
      " [0.10533333 0.00266667]]\n",
      "K: 7\n",
      "F1 for KNN Predictions: 0.05\n",
      "Confusion Matrix for KNN Predictions\n",
      "[[0.89066667 0.00133333]\n",
      " [0.10533333 0.00266667]]\n",
      "K: 8\n",
      "F1 for KNN Predictions: 0.01\n",
      "Confusion Matrix for KNN Predictions\n",
      "[[8.92000000e-01 0.00000000e+00]\n",
      " [1.07333333e-01 6.66666667e-04]]\n",
      "K: 9\n",
      "F1 for KNN Predictions: 0.02\n",
      "Confusion Matrix for KNN Predictions\n",
      "[[8.91333333e-01 6.66666667e-04]\n",
      " [1.06666667e-01 1.33333333e-03]]\n",
      "K: 10\n",
      "F1 for KNN Predictions: 0.02\n",
      "Confusion Matrix for KNN Predictions\n",
      "[[0.892      0.        ]\n",
      " [0.10666667 0.00133333]]\n"
     ]
    }
   ],
   "source": [
    "for n in [1, 2, 3, 4, 5, 6, 7, 8, 9, 10]:\n",
    "    eval_classifier(unscaled_features_train, unscaled_scaled_target_train, unscaled_features_test, unscaled_scaled_target_test, n)"
   ]
  },
  {
   "cell_type": "markdown",
   "metadata": {},
   "source": [
    "Scaled:"
   ]
  },
  {
   "cell_type": "code",
   "execution_count": 143,
   "metadata": {},
   "outputs": [
    {
     "name": "stdout",
     "output_type": "stream",
     "text": [
      "K: 1\n",
      "F1 for KNN Predictions: 0.95\n",
      "Confusion Matrix for KNN Predictions\n",
      "[[0.88933333 0.00266667]\n",
      " [0.00866667 0.09933333]]\n",
      "K: 2\n",
      "F1 for KNN Predictions: 0.90\n",
      "Confusion Matrix for KNN Predictions\n",
      "[[8.91333333e-01 6.66666667e-04]\n",
      " [1.86666667e-02 8.93333333e-02]]\n"
     ]
    },
    {
     "name": "stdout",
     "output_type": "stream",
     "text": [
      "K: 3\n",
      "F1 for KNN Predictions: 0.92\n",
      "Confusion Matrix for KNN Predictions\n",
      "[[0.888 0.004]\n",
      " [0.012 0.096]]\n",
      "K: 4\n",
      "F1 for KNN Predictions: 0.91\n",
      "Confusion Matrix for KNN Predictions\n",
      "[[0.88933333 0.00266667]\n",
      " [0.016      0.092     ]]\n",
      "K: 5\n",
      "F1 for KNN Predictions: 0.92\n",
      "Confusion Matrix for KNN Predictions\n",
      "[[0.888 0.004]\n",
      " [0.012 0.096]]\n",
      "K: 6\n",
      "F1 for KNN Predictions: 0.89\n",
      "Confusion Matrix for KNN Predictions\n",
      "[[0.88933333 0.00266667]\n",
      " [0.02       0.088     ]]\n",
      "K: 7\n",
      "F1 for KNN Predictions: 0.91\n",
      "Confusion Matrix for KNN Predictions\n",
      "[[0.888      0.004     ]\n",
      " [0.01533333 0.09266667]]\n",
      "K: 8\n",
      "F1 for KNN Predictions: 0.89\n",
      "Confusion Matrix for KNN Predictions\n",
      "[[0.89  0.002]\n",
      " [0.02  0.088]]\n",
      "K: 9\n",
      "F1 for KNN Predictions: 0.91\n",
      "Confusion Matrix for KNN Predictions\n",
      "[[0.88866667 0.00333333]\n",
      " [0.01533333 0.09266667]]\n",
      "K: 10\n",
      "F1 for KNN Predictions: 0.90\n",
      "Confusion Matrix for KNN Predictions\n",
      "[[0.89066667 0.00133333]\n",
      " [0.01866667 0.08933333]]\n"
     ]
    }
   ],
   "source": [
    "for n in [1, 2, 3, 4, 5, 6, 7, 8, 9, 10]:\n",
    "    eval_classifier(scaled_features_train, unscaled_scaled_target_train, scaled_features_test, unscaled_scaled_target_test, n)\n",
    "    "
   ]
  },
  {
   "cell_type": "markdown",
   "metadata": {},
   "source": [
    "The scaled F1 scores are higher than the unscaled F1 scores by a significant amount, but as K increases, the F1 score decreases in both cases."
   ]
  },
  {
   "cell_type": "markdown",
   "metadata": {},
   "source": [
    "# Task 3. Regression (with Linear Regression)"
   ]
  },
  {
   "cell_type": "markdown",
   "metadata": {},
   "source": [
    "This code builds a Linear Regression model with RMSE as an evaluation metric and insurance_benefits as the target for both the scaled and unscaled data."
   ]
  },
  {
   "cell_type": "code",
   "execution_count": 144,
   "metadata": {},
   "outputs": [],
   "source": [
    "class MyLinearRegression:\n",
    "    \n",
    "    def __init__(self):\n",
    "        \n",
    "        self.weights = None\n",
    "    \n",
    "    def fit(self, X, y):\n",
    "        # adding the unities\n",
    "        X2 = np.append(np.ones([len(X), 1]), X, axis=1)\n",
    "        weights = np.linalg.inv(X.T.dot(X)).dot(X.T).dot(y)\n",
    "        self.weights = weights[1:]\n",
    "        self.weights0 = weights[0]\n",
    "        \n",
    "    def predict(self, X):\n",
    "        \n",
    "        # adding the unities\n",
    "        X2 = np.append(np.ones([len(X), 1]), X, axis=1)\n",
    "        y_pred = X.dot(np.append([self.weights0], self.weights))\n",
    "        \n",
    "        return y_pred"
   ]
  },
  {
   "cell_type": "code",
   "execution_count": 145,
   "metadata": {},
   "outputs": [],
   "source": [
    "def eval_regressor(y_true, y_pred):\n",
    "    \n",
    "    rmse = math.sqrt(sklearn.metrics.mean_squared_error(y_true, y_pred))\n",
    "    print(f'RMSE: {rmse:.2f}')\n",
    "    \n",
    "    r2_score = math.sqrt(sklearn.metrics.r2_score(y_true, y_pred))\n",
    "    print(f'R2: {r2_score:.2f}')    "
   ]
  },
  {
   "cell_type": "markdown",
   "metadata": {},
   "source": [
    "Evaluating RMSE with the unscaled data:"
   ]
  },
  {
   "cell_type": "code",
   "execution_count": 146,
   "metadata": {},
   "outputs": [
    {
     "name": "stdout",
     "output_type": "stream",
     "text": [
      "[-4.11580814e-02 -1.19007179e-05 -4.53191847e-02]\n",
      "RMSE: 0.38\n",
      "R2: 0.56\n"
     ]
    }
   ],
   "source": [
    "X = insurance_data[['age', 'gender', 'income', 'family_members']].to_numpy()\n",
    "y = insurance_data['insurance_benefits'].to_numpy()\n",
    "\n",
    "X_train, X_test, y_train, y_test = train_test_split(X, y, test_size=0.3, random_state=12345)\n",
    "\n",
    "lr = MyLinearRegression()\n",
    "\n",
    "lr.fit(X_train, y_train)\n",
    "print(lr.weights)\n",
    "\n",
    "y_test_pred = lr.predict(X_test)\n",
    "eval_regressor(y_test, y_test_pred)"
   ]
  },
  {
   "cell_type": "markdown",
   "metadata": {},
   "source": [
    "Evaluating RMSE with the scaled data:"
   ]
  },
  {
   "cell_type": "code",
   "execution_count": 147,
   "metadata": {},
   "outputs": [
    {
     "name": "stdout",
     "output_type": "stream",
     "text": [
      "[-0.04115808 -0.94015671 -0.27191511]\n",
      "RMSE: 0.38\n",
      "R2: 0.56\n"
     ]
    }
   ],
   "source": [
    "X = insurance_data_scaled[['age', 'gender', 'income', 'family_members']].to_numpy()\n",
    "y = insurance_data_scaled['insurance_benefits'].to_numpy()\n",
    "\n",
    "X_train, X_test, y_train, y_test = train_test_split(X, y, test_size=0.3, random_state=12345)\n",
    "\n",
    "lr = MyLinearRegression()\n",
    "\n",
    "lr.fit(X_train, y_train)\n",
    "print(lr.weights)\n",
    "\n",
    "y_test_pred = lr.predict(X_test)\n",
    "eval_regressor(y_test, y_test_pred)"
   ]
  },
  {
   "cell_type": "markdown",
   "metadata": {},
   "source": [
    "The data has identical RMSE and R2 values, though the weights are different."
   ]
  },
  {
   "cell_type": "markdown",
   "metadata": {},
   "source": [
    "# Task 4. Obfuscating Data"
   ]
  },
  {
   "cell_type": "markdown",
   "metadata": {},
   "source": [
    "The code below creates a random number matrix to obfuscate the data, then reverses the process to see if the data can be displayed accurately again."
   ]
  },
  {
   "cell_type": "code",
   "execution_count": 148,
   "metadata": {},
   "outputs": [],
   "source": [
    "personal_info_column_list = ['gender', 'age', 'income', 'family_members']\n",
    "df_pn = insurance_data[personal_info_column_list]"
   ]
  },
  {
   "cell_type": "code",
   "execution_count": 149,
   "metadata": {},
   "outputs": [],
   "source": [
    "X = df_pn.to_numpy()"
   ]
  },
  {
   "cell_type": "markdown",
   "metadata": {},
   "source": [
    "Generating a random matrix $P$."
   ]
  },
  {
   "cell_type": "code",
   "execution_count": 150,
   "metadata": {},
   "outputs": [],
   "source": [
    "rng = np.random.default_rng(seed=42)\n",
    "P = rng.random(size=(X.shape[1], X.shape[1]))"
   ]
  },
  {
   "cell_type": "markdown",
   "metadata": {},
   "source": [
    "Checking the matrix $P$ is invertible"
   ]
  },
  {
   "cell_type": "code",
   "execution_count": 151,
   "metadata": {},
   "outputs": [
    {
     "name": "stdout",
     "output_type": "stream",
     "text": [
      "The matrix is invertible\n"
     ]
    }
   ],
   "source": [
    "try:\n",
    "    i = linalg.inv(P)\n",
    "    print('The matrix is invertible')\n",
    "except:\n",
    "    print('The matrix is not invertible')"
   ]
  },
  {
   "cell_type": "markdown",
   "metadata": {},
   "source": [
    "Can you guess the customers' ages or income after the transformation?"
   ]
  },
  {
   "cell_type": "code",
   "execution_count": 152,
   "metadata": {},
   "outputs": [
    {
     "data": {
      "text/html": [
       "<div>\n",
       "<style scoped>\n",
       "    .dataframe tbody tr th:only-of-type {\n",
       "        vertical-align: middle;\n",
       "    }\n",
       "\n",
       "    .dataframe tbody tr th {\n",
       "        vertical-align: top;\n",
       "    }\n",
       "\n",
       "    .dataframe thead th {\n",
       "        text-align: right;\n",
       "    }\n",
       "</style>\n",
       "<table border=\"1\" class=\"dataframe\">\n",
       "  <thead>\n",
       "    <tr style=\"text-align: right;\">\n",
       "      <th></th>\n",
       "      <th>gender</th>\n",
       "      <th>age</th>\n",
       "      <th>income</th>\n",
       "      <th>family_members</th>\n",
       "    </tr>\n",
       "  </thead>\n",
       "  <tbody>\n",
       "    <tr>\n",
       "      <th>1589</th>\n",
       "      <td>2951.327580</td>\n",
       "      <td>10394.284994</td>\n",
       "      <td>8556.296459</td>\n",
       "      <td>21344.031601</td>\n",
       "    </tr>\n",
       "    <tr>\n",
       "      <th>382</th>\n",
       "      <td>5872.412582</td>\n",
       "      <td>20664.060000</td>\n",
       "      <td>17011.252551</td>\n",
       "      <td>42475.059411</td>\n",
       "    </tr>\n",
       "    <tr>\n",
       "      <th>3759</th>\n",
       "      <td>5640.296045</td>\n",
       "      <td>19851.128050</td>\n",
       "      <td>16341.752956</td>\n",
       "      <td>40805.171760</td>\n",
       "    </tr>\n",
       "    <tr>\n",
       "      <th>1349</th>\n",
       "      <td>5116.903483</td>\n",
       "      <td>18004.678861</td>\n",
       "      <td>14821.704203</td>\n",
       "      <td>37005.015023</td>\n",
       "    </tr>\n",
       "    <tr>\n",
       "      <th>2580</th>\n",
       "      <td>3718.749157</td>\n",
       "      <td>13085.277036</td>\n",
       "      <td>10771.535744</td>\n",
       "      <td>26894.718633</td>\n",
       "    </tr>\n",
       "    <tr>\n",
       "      <th>821</th>\n",
       "      <td>5319.619878</td>\n",
       "      <td>18715.254121</td>\n",
       "      <td>15406.828773</td>\n",
       "      <td>38479.839819</td>\n",
       "    </tr>\n",
       "    <tr>\n",
       "      <th>1319</th>\n",
       "      <td>5704.561753</td>\n",
       "      <td>20070.906163</td>\n",
       "      <td>16523.443728</td>\n",
       "      <td>41264.535237</td>\n",
       "    </tr>\n",
       "    <tr>\n",
       "      <th>1967</th>\n",
       "      <td>6868.868436</td>\n",
       "      <td>24161.174341</td>\n",
       "      <td>19890.758033</td>\n",
       "      <td>49691.110753</td>\n",
       "    </tr>\n",
       "    <tr>\n",
       "      <th>2233</th>\n",
       "      <td>1451.000794</td>\n",
       "      <td>5116.141780</td>\n",
       "      <td>4211.427044</td>\n",
       "      <td>10494.365478</td>\n",
       "    </tr>\n",
       "    <tr>\n",
       "      <th>491</th>\n",
       "      <td>4436.409768</td>\n",
       "      <td>15608.030028</td>\n",
       "      <td>12849.181003</td>\n",
       "      <td>32085.858764</td>\n",
       "    </tr>\n",
       "  </tbody>\n",
       "</table>\n",
       "</div>"
      ],
      "text/plain": [
       "           gender           age        income  family_members\n",
       "1589  2951.327580  10394.284994   8556.296459    21344.031601\n",
       "382   5872.412582  20664.060000  17011.252551    42475.059411\n",
       "3759  5640.296045  19851.128050  16341.752956    40805.171760\n",
       "1349  5116.903483  18004.678861  14821.704203    37005.015023\n",
       "2580  3718.749157  13085.277036  10771.535744    26894.718633\n",
       "821   5319.619878  18715.254121  15406.828773    38479.839819\n",
       "1319  5704.561753  20070.906163  16523.443728    41264.535237\n",
       "1967  6868.868436  24161.174341  19890.758033    49691.110753\n",
       "2233  1451.000794   5116.141780   4211.427044    10494.365478\n",
       "491   4436.409768  15608.030028  12849.181003    32085.858764"
      ]
     },
     "metadata": {},
     "output_type": "display_data"
    }
   ],
   "source": [
    "ob_data = X @ P\n",
    "ob_data_frame = pd.DataFrame(ob_data, columns=personal_info_column_list)\n",
    "display (ob_data_frame.sample(10))"
   ]
  },
  {
   "cell_type": "code",
   "execution_count": 153,
   "metadata": {},
   "outputs": [
    {
     "name": "stdout",
     "output_type": "stream",
     "text": [
      "[[ 1.  0. -0. -0.]\n",
      " [-0.  1. -0.  0.]\n",
      " [-0. -0.  1.  0.]\n",
      " [ 0. -0. -0.  1.]]\n",
      "[[ 1. -0.  0.  0.]\n",
      " [ 0.  1. -0.  0.]\n",
      " [-0.  0.  1. -0.]\n",
      " [ 0. -0. -0.  1.]]\n"
     ]
    },
    {
     "data": {
      "text/html": [
       "<div>\n",
       "<style scoped>\n",
       "    .dataframe tbody tr th:only-of-type {\n",
       "        vertical-align: middle;\n",
       "    }\n",
       "\n",
       "    .dataframe tbody tr th {\n",
       "        vertical-align: top;\n",
       "    }\n",
       "\n",
       "    .dataframe thead th {\n",
       "        text-align: right;\n",
       "    }\n",
       "</style>\n",
       "<table border=\"1\" class=\"dataframe\">\n",
       "  <thead>\n",
       "    <tr style=\"text-align: right;\">\n",
       "      <th></th>\n",
       "      <th>gender</th>\n",
       "      <th>age</th>\n",
       "      <th>income</th>\n",
       "      <th>family_members</th>\n",
       "    </tr>\n",
       "  </thead>\n",
       "  <tbody>\n",
       "    <tr>\n",
       "      <th>4934</th>\n",
       "      <td>1</td>\n",
       "      <td>25</td>\n",
       "      <td>27100.0</td>\n",
       "      <td>3</td>\n",
       "    </tr>\n",
       "    <tr>\n",
       "      <th>4199</th>\n",
       "      <td>0</td>\n",
       "      <td>54</td>\n",
       "      <td>23500.0</td>\n",
       "      <td>1</td>\n",
       "    </tr>\n",
       "    <tr>\n",
       "      <th>4022</th>\n",
       "      <td>1</td>\n",
       "      <td>22</td>\n",
       "      <td>42700.0</td>\n",
       "      <td>1</td>\n",
       "    </tr>\n",
       "    <tr>\n",
       "      <th>2373</th>\n",
       "      <td>1</td>\n",
       "      <td>22</td>\n",
       "      <td>41500.0</td>\n",
       "      <td>0</td>\n",
       "    </tr>\n",
       "    <tr>\n",
       "      <th>99</th>\n",
       "      <td>0</td>\n",
       "      <td>36</td>\n",
       "      <td>42100.0</td>\n",
       "      <td>2</td>\n",
       "    </tr>\n",
       "    <tr>\n",
       "      <th>2914</th>\n",
       "      <td>0</td>\n",
       "      <td>40</td>\n",
       "      <td>52700.0</td>\n",
       "      <td>2</td>\n",
       "    </tr>\n",
       "    <tr>\n",
       "      <th>3526</th>\n",
       "      <td>0</td>\n",
       "      <td>18</td>\n",
       "      <td>38600.0</td>\n",
       "      <td>1</td>\n",
       "    </tr>\n",
       "    <tr>\n",
       "      <th>80</th>\n",
       "      <td>0</td>\n",
       "      <td>40</td>\n",
       "      <td>32700.0</td>\n",
       "      <td>0</td>\n",
       "    </tr>\n",
       "    <tr>\n",
       "      <th>3348</th>\n",
       "      <td>0</td>\n",
       "      <td>25</td>\n",
       "      <td>46800.0</td>\n",
       "      <td>1</td>\n",
       "    </tr>\n",
       "    <tr>\n",
       "      <th>557</th>\n",
       "      <td>0</td>\n",
       "      <td>32</td>\n",
       "      <td>23100.0</td>\n",
       "      <td>2</td>\n",
       "    </tr>\n",
       "  </tbody>\n",
       "</table>\n",
       "</div>"
      ],
      "text/plain": [
       "      gender  age   income  family_members\n",
       "4934       1   25  27100.0               3\n",
       "4199       0   54  23500.0               1\n",
       "4022       1   22  42700.0               1\n",
       "2373       1   22  41500.0               0\n",
       "99         0   36  42100.0               2\n",
       "2914       0   40  52700.0               2\n",
       "3526       0   18  38600.0               1\n",
       "80         0   40  32700.0               0\n",
       "3348       0   25  46800.0               1\n",
       "557        0   32  23100.0               2"
      ]
     },
     "metadata": {},
     "output_type": "display_data"
    }
   ],
   "source": [
    "ob_data_revert = ob_data @ i\n",
    "\n",
    "matrix_check = P @ i\n",
    "\n",
    "matrix_check_2 = i @ P\n",
    "\n",
    "print(np.round(matrix_check))\n",
    "\n",
    "print(np.round(matrix_check_2))\n",
    "\n",
    "ob_data_revert_frame = pd.DataFrame(ob_data_revert, columns=personal_info_column_list)\n",
    "ob_data_revert_frame['gender'] = ob_data_revert_frame['gender'].astype('int')\n",
    "ob_data_revert_frame['age'] = ob_data_revert_frame['age'].astype('int')\n",
    "ob_data_revert_frame['family_members'] = ob_data_revert_frame['family_members'].astype('int')\n",
    "display (ob_data_revert_frame.sample(10))\n"
   ]
  },
  {
   "cell_type": "code",
   "execution_count": 154,
   "metadata": {},
   "outputs": [
    {
     "data": {
      "text/html": [
       "<div>\n",
       "<style scoped>\n",
       "    .dataframe tbody tr th:only-of-type {\n",
       "        vertical-align: middle;\n",
       "    }\n",
       "\n",
       "    .dataframe tbody tr th {\n",
       "        vertical-align: top;\n",
       "    }\n",
       "\n",
       "    .dataframe thead th {\n",
       "        text-align: right;\n",
       "    }\n",
       "</style>\n",
       "<table border=\"1\" class=\"dataframe\">\n",
       "  <thead>\n",
       "    <tr style=\"text-align: right;\">\n",
       "      <th></th>\n",
       "      <th>gender</th>\n",
       "      <th>age</th>\n",
       "      <th>income</th>\n",
       "      <th>family_members</th>\n",
       "      <th>insurance_benefits</th>\n",
       "      <th>insurance_benefits_received</th>\n",
       "    </tr>\n",
       "  </thead>\n",
       "  <tbody>\n",
       "    <tr>\n",
       "      <th>752</th>\n",
       "      <td>0</td>\n",
       "      <td>41</td>\n",
       "      <td>32100.0</td>\n",
       "      <td>0</td>\n",
       "      <td>0</td>\n",
       "      <td>0</td>\n",
       "    </tr>\n",
       "    <tr>\n",
       "      <th>2010</th>\n",
       "      <td>1</td>\n",
       "      <td>38</td>\n",
       "      <td>35900.0</td>\n",
       "      <td>1</td>\n",
       "      <td>0</td>\n",
       "      <td>0</td>\n",
       "    </tr>\n",
       "    <tr>\n",
       "      <th>4100</th>\n",
       "      <td>0</td>\n",
       "      <td>33</td>\n",
       "      <td>32400.0</td>\n",
       "      <td>0</td>\n",
       "      <td>0</td>\n",
       "      <td>0</td>\n",
       "    </tr>\n",
       "    <tr>\n",
       "      <th>1373</th>\n",
       "      <td>0</td>\n",
       "      <td>40</td>\n",
       "      <td>52000.0</td>\n",
       "      <td>0</td>\n",
       "      <td>0</td>\n",
       "      <td>0</td>\n",
       "    </tr>\n",
       "    <tr>\n",
       "      <th>16</th>\n",
       "      <td>1</td>\n",
       "      <td>26</td>\n",
       "      <td>48900.0</td>\n",
       "      <td>2</td>\n",
       "      <td>0</td>\n",
       "      <td>0</td>\n",
       "    </tr>\n",
       "    <tr>\n",
       "      <th>2635</th>\n",
       "      <td>0</td>\n",
       "      <td>23</td>\n",
       "      <td>32900.0</td>\n",
       "      <td>0</td>\n",
       "      <td>0</td>\n",
       "      <td>0</td>\n",
       "    </tr>\n",
       "    <tr>\n",
       "      <th>2584</th>\n",
       "      <td>1</td>\n",
       "      <td>20</td>\n",
       "      <td>33600.0</td>\n",
       "      <td>0</td>\n",
       "      <td>0</td>\n",
       "      <td>0</td>\n",
       "    </tr>\n",
       "    <tr>\n",
       "      <th>2770</th>\n",
       "      <td>0</td>\n",
       "      <td>38</td>\n",
       "      <td>34100.0</td>\n",
       "      <td>1</td>\n",
       "      <td>0</td>\n",
       "      <td>0</td>\n",
       "    </tr>\n",
       "    <tr>\n",
       "      <th>1274</th>\n",
       "      <td>0</td>\n",
       "      <td>36</td>\n",
       "      <td>52900.0</td>\n",
       "      <td>3</td>\n",
       "      <td>0</td>\n",
       "      <td>0</td>\n",
       "    </tr>\n",
       "    <tr>\n",
       "      <th>3804</th>\n",
       "      <td>0</td>\n",
       "      <td>34</td>\n",
       "      <td>43000.0</td>\n",
       "      <td>0</td>\n",
       "      <td>0</td>\n",
       "      <td>0</td>\n",
       "    </tr>\n",
       "  </tbody>\n",
       "</table>\n",
       "</div>"
      ],
      "text/plain": [
       "      gender  age   income  family_members  insurance_benefits  \\\n",
       "752        0   41  32100.0               0                   0   \n",
       "2010       1   38  35900.0               1                   0   \n",
       "4100       0   33  32400.0               0                   0   \n",
       "1373       0   40  52000.0               0                   0   \n",
       "16         1   26  48900.0               2                   0   \n",
       "2635       0   23  32900.0               0                   0   \n",
       "2584       1   20  33600.0               0                   0   \n",
       "2770       0   38  34100.0               1                   0   \n",
       "1274       0   36  52900.0               3                   0   \n",
       "3804       0   34  43000.0               0                   0   \n",
       "\n",
       "      insurance_benefits_received  \n",
       "752                             0  \n",
       "2010                            0  \n",
       "4100                            0  \n",
       "1373                            0  \n",
       "16                              0  \n",
       "2635                            0  \n",
       "2584                            0  \n",
       "2770                            0  \n",
       "1274                            0  \n",
       "3804                            0  "
      ]
     },
     "metadata": {},
     "output_type": "display_data"
    },
    {
     "data": {
      "text/html": [
       "<div>\n",
       "<style scoped>\n",
       "    .dataframe tbody tr th:only-of-type {\n",
       "        vertical-align: middle;\n",
       "    }\n",
       "\n",
       "    .dataframe tbody tr th {\n",
       "        vertical-align: top;\n",
       "    }\n",
       "\n",
       "    .dataframe thead th {\n",
       "        text-align: right;\n",
       "    }\n",
       "</style>\n",
       "<table border=\"1\" class=\"dataframe\">\n",
       "  <thead>\n",
       "    <tr style=\"text-align: right;\">\n",
       "      <th></th>\n",
       "      <th>gender</th>\n",
       "      <th>age</th>\n",
       "      <th>income</th>\n",
       "      <th>family_members</th>\n",
       "    </tr>\n",
       "  </thead>\n",
       "  <tbody>\n",
       "    <tr>\n",
       "      <th>0</th>\n",
       "      <td>4116.308880</td>\n",
       "      <td>14497.389123</td>\n",
       "      <td>11933.823306</td>\n",
       "      <td>29781.384779</td>\n",
       "    </tr>\n",
       "    <tr>\n",
       "      <th>1</th>\n",
       "      <td>4604.275973</td>\n",
       "      <td>16207.190460</td>\n",
       "      <td>13341.874391</td>\n",
       "      <td>33301.658150</td>\n",
       "    </tr>\n",
       "    <tr>\n",
       "      <th>2</th>\n",
       "      <td>4153.989551</td>\n",
       "      <td>14624.699925</td>\n",
       "      <td>12038.973595</td>\n",
       "      <td>30053.125761</td>\n",
       "    </tr>\n",
       "    <tr>\n",
       "      <th>3</th>\n",
       "      <td>6665.675993</td>\n",
       "      <td>23459.093665</td>\n",
       "      <td>19311.942848</td>\n",
       "      <td>48223.221992</td>\n",
       "    </tr>\n",
       "    <tr>\n",
       "      <th>4</th>\n",
       "      <td>6269.266935</td>\n",
       "      <td>22051.322946</td>\n",
       "      <td>18153.558444</td>\n",
       "      <td>45340.397472</td>\n",
       "    </tr>\n",
       "    <tr>\n",
       "      <th>5</th>\n",
       "      <td>4217.104594</td>\n",
       "      <td>14840.136671</td>\n",
       "      <td>12216.761210</td>\n",
       "      <td>30508.647612</td>\n",
       "    </tr>\n",
       "    <tr>\n",
       "      <th>6</th>\n",
       "      <td>4307.275561</td>\n",
       "      <td>15152.918839</td>\n",
       "      <td>12474.895006</td>\n",
       "      <td>31155.722279</td>\n",
       "    </tr>\n",
       "    <tr>\n",
       "      <th>7</th>\n",
       "      <td>4372.897479</td>\n",
       "      <td>15396.056893</td>\n",
       "      <td>12673.579349</td>\n",
       "      <td>31632.783802</td>\n",
       "    </tr>\n",
       "    <tr>\n",
       "      <th>8</th>\n",
       "      <td>6782.533148</td>\n",
       "      <td>23863.006804</td>\n",
       "      <td>19643.946754</td>\n",
       "      <td>49054.847941</td>\n",
       "    </tr>\n",
       "    <tr>\n",
       "      <th>9</th>\n",
       "      <td>5512.088235</td>\n",
       "      <td>19399.766489</td>\n",
       "      <td>15970.193792</td>\n",
       "      <td>39877.620707</td>\n",
       "    </tr>\n",
       "  </tbody>\n",
       "</table>\n",
       "</div>"
      ],
      "text/plain": [
       "        gender           age        income  family_members\n",
       "0  4116.308880  14497.389123  11933.823306    29781.384779\n",
       "1  4604.275973  16207.190460  13341.874391    33301.658150\n",
       "2  4153.989551  14624.699925  12038.973595    30053.125761\n",
       "3  6665.675993  23459.093665  19311.942848    48223.221992\n",
       "4  6269.266935  22051.322946  18153.558444    45340.397472\n",
       "5  4217.104594  14840.136671  12216.761210    30508.647612\n",
       "6  4307.275561  15152.918839  12474.895006    31155.722279\n",
       "7  4372.897479  15396.056893  12673.579349    31632.783802\n",
       "8  6782.533148  23863.006804  19643.946754    49054.847941\n",
       "9  5512.088235  19399.766489  15970.193792    39877.620707"
      ]
     },
     "metadata": {},
     "output_type": "display_data"
    },
    {
     "data": {
      "text/html": [
       "<div>\n",
       "<style scoped>\n",
       "    .dataframe tbody tr th:only-of-type {\n",
       "        vertical-align: middle;\n",
       "    }\n",
       "\n",
       "    .dataframe tbody tr th {\n",
       "        vertical-align: top;\n",
       "    }\n",
       "\n",
       "    .dataframe thead th {\n",
       "        text-align: right;\n",
       "    }\n",
       "</style>\n",
       "<table border=\"1\" class=\"dataframe\">\n",
       "  <thead>\n",
       "    <tr style=\"text-align: right;\">\n",
       "      <th></th>\n",
       "      <th>gender</th>\n",
       "      <th>age</th>\n",
       "      <th>income</th>\n",
       "      <th>family_members</th>\n",
       "    </tr>\n",
       "  </thead>\n",
       "  <tbody>\n",
       "    <tr>\n",
       "      <th>0</th>\n",
       "      <td>0</td>\n",
       "      <td>40</td>\n",
       "      <td>32100.0</td>\n",
       "      <td>0</td>\n",
       "    </tr>\n",
       "    <tr>\n",
       "      <th>1</th>\n",
       "      <td>1</td>\n",
       "      <td>37</td>\n",
       "      <td>35900.0</td>\n",
       "      <td>0</td>\n",
       "    </tr>\n",
       "    <tr>\n",
       "      <th>2</th>\n",
       "      <td>0</td>\n",
       "      <td>32</td>\n",
       "      <td>32400.0</td>\n",
       "      <td>0</td>\n",
       "    </tr>\n",
       "    <tr>\n",
       "      <th>3</th>\n",
       "      <td>0</td>\n",
       "      <td>40</td>\n",
       "      <td>52000.0</td>\n",
       "      <td>0</td>\n",
       "    </tr>\n",
       "    <tr>\n",
       "      <th>4</th>\n",
       "      <td>0</td>\n",
       "      <td>25</td>\n",
       "      <td>48900.0</td>\n",
       "      <td>2</td>\n",
       "    </tr>\n",
       "    <tr>\n",
       "      <th>5</th>\n",
       "      <td>0</td>\n",
       "      <td>22</td>\n",
       "      <td>32900.0</td>\n",
       "      <td>0</td>\n",
       "    </tr>\n",
       "    <tr>\n",
       "      <th>6</th>\n",
       "      <td>1</td>\n",
       "      <td>20</td>\n",
       "      <td>33600.0</td>\n",
       "      <td>0</td>\n",
       "    </tr>\n",
       "    <tr>\n",
       "      <th>7</th>\n",
       "      <td>0</td>\n",
       "      <td>37</td>\n",
       "      <td>34100.0</td>\n",
       "      <td>1</td>\n",
       "    </tr>\n",
       "    <tr>\n",
       "      <th>8</th>\n",
       "      <td>0</td>\n",
       "      <td>35</td>\n",
       "      <td>52900.0</td>\n",
       "      <td>3</td>\n",
       "    </tr>\n",
       "    <tr>\n",
       "      <th>9</th>\n",
       "      <td>0</td>\n",
       "      <td>33</td>\n",
       "      <td>43000.0</td>\n",
       "      <td>0</td>\n",
       "    </tr>\n",
       "  </tbody>\n",
       "</table>\n",
       "</div>"
      ],
      "text/plain": [
       "   gender  age   income  family_members\n",
       "0       0   40  32100.0               0\n",
       "1       1   37  35900.0               0\n",
       "2       0   32  32400.0               0\n",
       "3       0   40  52000.0               0\n",
       "4       0   25  48900.0               2\n",
       "5       0   22  32900.0               0\n",
       "6       1   20  33600.0               0\n",
       "7       0   37  34100.0               1\n",
       "8       0   35  52900.0               3\n",
       "9       0   33  43000.0               0"
      ]
     },
     "metadata": {},
     "output_type": "display_data"
    }
   ],
   "source": [
    "sample = insurance_data.sample(10)\n",
    "display(sample)\n",
    "sample_pn = sample[personal_info_column_list]\n",
    "Y = sample_pn.to_numpy()\n",
    "\n",
    "ob_sample = Y @ P\n",
    "ob_sample_frame = pd.DataFrame(ob_sample, columns=personal_info_column_list)\n",
    "display (ob_sample_frame)\n",
    "\n",
    "ob_sample_revert = ob_sample @ i\n",
    "\n",
    "ob_sample_revert_frame = pd.DataFrame(ob_sample_revert, columns=personal_info_column_list)\n",
    "ob_sample_revert_frame['gender'] = ob_sample_revert_frame['gender'].astype('int')\n",
    "ob_sample_revert_frame['age'] = ob_sample_revert_frame['age'].astype('int')\n",
    "ob_sample_revert_frame['family_members'] = ob_sample_revert_frame['family_members'].astype('int')\n",
    "display (ob_sample_revert_frame)\n"
   ]
  },
  {
   "cell_type": "markdown",
   "metadata": {},
   "source": [
    "When checking the matrix values by multiplying the original by inverted, the results that I expected to be zero approached zero, but were not actually zero without rounding to an integer. When using the inverted matrix, there are limitations to floating point arithmetic that cause the numbers that were zero to approach zero instead."
   ]
  },
  {
   "cell_type": "markdown",
   "metadata": {},
   "source": [
    "## Test Linear Regression With Data Obfuscation"
   ]
  },
  {
   "cell_type": "markdown",
   "metadata": {},
   "source": [
    "The following code follows the same procedures as above for data obfuscation and linear regression to test if the obfuscated data produces the same RMSE as the unobfuscated data."
   ]
  },
  {
   "cell_type": "code",
   "execution_count": 155,
   "metadata": {},
   "outputs": [
    {
     "name": "stdout",
     "output_type": "stream",
     "text": [
      "The matrix is invertible\n"
     ]
    }
   ],
   "source": [
    "rng2 = np.random.default_rng(seed=55)\n",
    "P2 = rng2.random(size=(X.shape[1], X.shape[1]))\n",
    "\n",
    "try:\n",
    "    i2 = linalg.inv(P2)\n",
    "    print('The matrix is invertible')\n",
    "except:\n",
    "    print('The matrix is not invertible')"
   ]
  },
  {
   "cell_type": "code",
   "execution_count": 156,
   "metadata": {},
   "outputs": [
    {
     "data": {
      "text/html": [
       "<div>\n",
       "<style scoped>\n",
       "    .dataframe tbody tr th:only-of-type {\n",
       "        vertical-align: middle;\n",
       "    }\n",
       "\n",
       "    .dataframe tbody tr th {\n",
       "        vertical-align: top;\n",
       "    }\n",
       "\n",
       "    .dataframe thead th {\n",
       "        text-align: right;\n",
       "    }\n",
       "</style>\n",
       "<table border=\"1\" class=\"dataframe\">\n",
       "  <thead>\n",
       "    <tr style=\"text-align: right;\">\n",
       "      <th></th>\n",
       "      <th>gender</th>\n",
       "      <th>age</th>\n",
       "      <th>income</th>\n",
       "      <th>family_members</th>\n",
       "      <th>insurance_benefits</th>\n",
       "    </tr>\n",
       "  </thead>\n",
       "  <tbody>\n",
       "    <tr>\n",
       "      <th>0</th>\n",
       "      <td>3383.226743</td>\n",
       "      <td>24390.415516</td>\n",
       "      <td>16813.448193</td>\n",
       "      <td>29895.109743</td>\n",
       "      <td>0</td>\n",
       "    </tr>\n",
       "    <tr>\n",
       "      <th>1</th>\n",
       "      <td>2598.548994</td>\n",
       "      <td>18696.606475</td>\n",
       "      <td>12891.396449</td>\n",
       "      <td>22917.379120</td>\n",
       "      <td>1</td>\n",
       "    </tr>\n",
       "    <tr>\n",
       "      <th>2</th>\n",
       "      <td>1437.780366</td>\n",
       "      <td>10334.843009</td>\n",
       "      <td>7126.668035</td>\n",
       "      <td>12667.720242</td>\n",
       "      <td>0</td>\n",
       "    </tr>\n",
       "    <tr>\n",
       "      <th>3</th>\n",
       "      <td>2837.078227</td>\n",
       "      <td>20495.168201</td>\n",
       "      <td>14125.925081</td>\n",
       "      <td>25121.765713</td>\n",
       "      <td>0</td>\n",
       "    </tr>\n",
       "    <tr>\n",
       "      <th>4</th>\n",
       "      <td>1783.824788</td>\n",
       "      <td>12839.546035</td>\n",
       "      <td>8851.984594</td>\n",
       "      <td>15736.779406</td>\n",
       "      <td>0</td>\n",
       "    </tr>\n",
       "    <tr>\n",
       "      <th>5</th>\n",
       "      <td>2801.301133</td>\n",
       "      <td>20168.843099</td>\n",
       "      <td>13904.761713</td>\n",
       "      <td>24721.489876</td>\n",
       "      <td>1</td>\n",
       "    </tr>\n",
       "    <tr>\n",
       "      <th>6</th>\n",
       "      <td>2711.209301</td>\n",
       "      <td>19527.406426</td>\n",
       "      <td>13462.034360</td>\n",
       "      <td>23935.209572</td>\n",
       "      <td>0</td>\n",
       "    </tr>\n",
       "    <tr>\n",
       "      <th>7</th>\n",
       "      <td>2629.831664</td>\n",
       "      <td>18977.336563</td>\n",
       "      <td>13080.106610</td>\n",
       "      <td>23261.784264</td>\n",
       "      <td>0</td>\n",
       "    </tr>\n",
       "    <tr>\n",
       "      <th>8</th>\n",
       "      <td>3387.541555</td>\n",
       "      <td>24435.758924</td>\n",
       "      <td>16843.766294</td>\n",
       "      <td>29950.566003</td>\n",
       "      <td>0</td>\n",
       "    </tr>\n",
       "    <tr>\n",
       "      <th>9</th>\n",
       "      <td>3521.141137</td>\n",
       "      <td>25414.936465</td>\n",
       "      <td>17517.734630</td>\n",
       "      <td>31150.611444</td>\n",
       "      <td>0</td>\n",
       "    </tr>\n",
       "  </tbody>\n",
       "</table>\n",
       "</div>"
      ],
      "text/plain": [
       "        gender           age        income  family_members  insurance_benefits\n",
       "0  3383.226743  24390.415516  16813.448193    29895.109743                   0\n",
       "1  2598.548994  18696.606475  12891.396449    22917.379120                   1\n",
       "2  1437.780366  10334.843009   7126.668035    12667.720242                   0\n",
       "3  2837.078227  20495.168201  14125.925081    25121.765713                   0\n",
       "4  1783.824788  12839.546035   8851.984594    15736.779406                   0\n",
       "5  2801.301133  20168.843099  13904.761713    24721.489876                   1\n",
       "6  2711.209301  19527.406426  13462.034360    23935.209572                   0\n",
       "7  2629.831664  18977.336563  13080.106610    23261.784264                   0\n",
       "8  3387.541555  24435.758924  16843.766294    29950.566003                   0\n",
       "9  3521.141137  25414.936465  17517.734630    31150.611444                   0"
      ]
     },
     "metadata": {},
     "output_type": "display_data"
    }
   ],
   "source": [
    "ob_data_new = X @ P2\n",
    "ob_data_frame_new = pd.DataFrame(ob_data_new, columns=personal_info_column_list)\n",
    "ob_data_frame_new['insurance_benefits'] = insurance_data['insurance_benefits']\n",
    "display (ob_data_frame_new.head(10))\n"
   ]
  },
  {
   "cell_type": "code",
   "execution_count": 157,
   "metadata": {},
   "outputs": [
    {
     "name": "stdout",
     "output_type": "stream",
     "text": [
      "[-0.01464017  0.16214101 -0.03722125]\n",
      "RMSE: 0.38\n",
      "R2: 0.56\n"
     ]
    }
   ],
   "source": [
    "X = ob_data_frame_new[['age', 'gender', 'income', 'family_members']].to_numpy()\n",
    "y = ob_data_frame_new['insurance_benefits'].to_numpy()\n",
    "\n",
    "X_train, X_test, y_train, y_test = train_test_split(X, y, test_size=0.3, random_state=12345)\n",
    "\n",
    "lr = MyLinearRegression()\n",
    "\n",
    "lr.fit(X_train, y_train)\n",
    "print(lr.weights)\n",
    "\n",
    "y_test_pred = lr.predict(X_test)\n",
    "eval_regressor(y_test, y_test_pred)"
   ]
  },
  {
   "cell_type": "markdown",
   "metadata": {},
   "source": [
    "The RMSE is identical"
   ]
  },
  {
   "cell_type": "markdown",
   "metadata": {},
   "source": [
    "# Conclusions"
   ]
  },
  {
   "cell_type": "markdown",
   "metadata": {},
   "source": [
    "Data obfuscation is a helpful way to hide PII from those who do not need to see it, especially in cases like insurance, where sensitive information can be involved. While we only used it to evaluate Linear Regression, we proved that it can be useful in other linear cases."
   ]
  },
  {
   "cell_type": "markdown",
   "metadata": {},
   "source": [
    "Scaling data demonstrates an impact on KNN evaluation. This is something to keep in mind when working with numerical data in any capacity going forward. The KNN model also did better than the random model!"
   ]
  },
  {
   "cell_type": "markdown",
   "metadata": {},
   "source": [
    "Just because EDA is not terribly effective does not mean we cannot draw conclusions and make decisions based on the data."
   ]
  }
 ],
 "metadata": {
  "kernelspec": {
   "display_name": "base",
   "language": "python",
   "name": "python3"
  },
  "language_info": {
   "codemirror_mode": {
    "name": "ipython",
    "version": 3
   },
   "file_extension": ".py",
   "mimetype": "text/x-python",
   "name": "python",
   "nbconvert_exporter": "python",
   "pygments_lexer": "ipython3",
   "version": "3.9.13"
  },
  "orig_nbformat": 4
 },
 "nbformat": 4,
 "nbformat_minor": 2
}
